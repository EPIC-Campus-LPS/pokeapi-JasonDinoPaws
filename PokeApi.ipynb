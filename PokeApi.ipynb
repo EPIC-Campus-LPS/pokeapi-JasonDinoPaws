{
 "cells": [
  {
   "cell_type": "markdown",
   "metadata": {},
   "source": [
    "# Imports \n",
    "All required liberys "
   ]
  },
  {
   "cell_type": "code",
   "execution_count": 21,
   "metadata": {},
   "outputs": [],
   "source": [
    "import requests\n",
    "import cv2\n",
    "import numpy as np\n",
    "from tkinter import Tk,Canvas,Label,Entry"
   ]
  },
  {
   "cell_type": "markdown",
   "metadata": {},
   "source": [
    "# Variables\n",
    "All variables required for this to run\n",
    "\n",
    "- Root - the window\n",
    "- can - the Canvas\n",
    "- nam - the name of the pokemon"
   ]
  },
  {
   "cell_type": "code",
   "execution_count": 22,
   "metadata": {},
   "outputs": [],
   "source": [
    "# path = \"\".join(x+\"/\" for x in __file__.split(\"/\")[:-1])\n",
    "root = Tk()\n",
    "root.title(\"Pokédex\")\n",
    "root.config(background=\"#000000\")\n",
    "can = Canvas(root,background=\"#000000\",highlightthickness=0)\n",
    "nam = Label(can,bg=\"white\",highlightthickness=0,font=(\"Arial\",15,\"bold\"))\n",
    "\n",
    "Left = {\"Name\":1,\"Size\":5,\"R\":2,\"G\":1,\"B\":0}\n",
    "Entrys = []\n",
    "images = []"
   ]
  },
  {
   "cell_type": "markdown",
   "metadata": {},
   "source": [
    "# Images\n",
    " \n",
    "## Create Image\n",
    "Takes in a array for the image and creates a pixel by pixel recreation of the array given taking in the size variable for the pixel size and the RGB for the coloration\n",
    "\n",
    "## Get Image\n",
    "when given a link checks if that link is valid and will get back the bytes of the image"
   ]
  },
  {
   "cell_type": "code",
   "execution_count": 23,
   "metadata": {},
   "outputs": [],
   "source": [
    "def CreateImage(img):\n",
    "    global root,can\n",
    "    if type(img) == type(None):\n",
    "        return\n",
    "    \n",
    "    can.delete(\"all\")\n",
    "    for r in range(len(img)):\n",
    "        y1 = r*Left[\"Size\"]\n",
    "        y2 = y1+Left[\"Size\"]\n",
    "        for c in range(len(img[r])):\n",
    "            x1 = c*Left[\"Size\"]\n",
    "            x2 = x1+Left[\"Size\"]\n",
    "            color = (img[r,c,Left[\"R\"]],img[r,c,Left[\"G\"]],img[r,c,Left[\"B\"]])\n",
    "\n",
    "            if img[r][c][0] != 0:\n",
    "                can.create_rectangle(x1,y1,x2,y2,outline=\"\",fill=\"#%02x%02x%02x\" % color )\n",
    "    can.config(height=len(img)*Left[\"Size\"],width=len(img[0])*Left[\"Size\"])\n",
    "    root.update()\n",
    "\n",
    "# checks if the link is valid for the iamge\n",
    "def GetImage(link):\n",
    "    if link:\n",
    "        img = requests.get(link)\n",
    "        if img.status_code == 200:\n",
    "            img = np.asarray(bytearray(img.content), dtype=\"uint8\")\n",
    "            return cv2.imdecode(img, cv2.IMREAD_COLOR)\n",
    "    return"
   ]
  },
  {
   "cell_type": "markdown",
   "metadata": {},
   "source": [
    "# Entery Input\n",
    "When a entry is unfocaed on will check which variable it goes to then sets it value depending on some peramaters or if it is the name/id of the pokemon will check if the number is valid"
   ]
  },
  {
   "cell_type": "code",
   "execution_count": 24,
   "metadata": {},
   "outputs": [],
   "source": [
    "def Out(en,x=\"\"):\n",
    "    global images\n",
    "    if x == \"\":\n",
    "        data = en.widget.get()\n",
    "        for x,ent in Entrys:\n",
    "            if ent == en.widget:\n",
    "                break\n",
    "        else:\n",
    "            return\n",
    "    else:\n",
    "        data = en.get()\n",
    "\n",
    "    if x in [\"R\",\"G\",\"B\"] and data.isdigit():\n",
    "        if int(data) >= 0 and int(data) < 3:\n",
    "            Left[x] = int(data)\n",
    "    elif x == \"Size\" and data.isdigit() and int(data) >= 3 and int(data) <= 12: \n",
    "        Left[x] = int(data)\n",
    "\n",
    "    elif x == \"Name\":\n",
    "        page = requests.get(f\"https://pokeapi.co/api/v2/pokemon/{data}\",json=True)\n",
    "\n",
    "        if page.status_code == 200:\n",
    "            js = page.json()\n",
    "\n",
    "            name = js[\"name\"]\n",
    "            images = [\n",
    "                GetImage(js[\"sprites\"][\"front_default\"]),\n",
    "                GetImage(js[\"sprites\"][\"back_default\"]),\n",
    "                GetImage(js[\"sprites\"][\"front_female\"]),\n",
    "                GetImage(js[\"sprites\"][\"back_female\"]),\n",
    "\n",
    "\n",
    "                GetImage(js[\"sprites\"][\"front_shiny\"]),\n",
    "                GetImage(js[\"sprites\"][\"back_shiny\"]),\n",
    "                GetImage(js[\"sprites\"][\"front_shiny_female\"]),\n",
    "                GetImage(js[\"sprites\"][\"back_shiny_female\"]),\n",
    "            ]\n",
    "\n",
    "            nam.config(text=name)\n",
    "\n",
    "    CreateImage(images[0])\n"
   ]
  },
  {
   "cell_type": "markdown",
   "metadata": {},
   "source": [
    "# Finalization\n",
    "Starts the Entry bind and loads all the Entrys, then the canvas and finally starts the window"
   ]
  },
  {
   "cell_type": "code",
   "execution_count": 25,
   "metadata": {},
   "outputs": [],
   "source": [
    "root.bind_class(\"Entry\", \"<FocusOut>\", Out)\n",
    "\n",
    "yp = 5\n",
    "for N in Left.keys():\n",
    "    ent =  Entry(root)\n",
    "    Label(root,text=N).place(x=5,y=yp)\n",
    "    ent.insert(0,Left[N])\n",
    "    ent.place(x=5,y=yp+20)\n",
    "    Entrys.append([N,ent])\n",
    "    Out(ent,N)\n",
    "    yp += 50\n",
    "\n",
    "can.pack()\n",
    "nam.place(x=5,y=5)\n",
    "\n",
    "root.mainloop()"
   ]
  }
 ],
 "metadata": {
  "kernelspec": {
   "display_name": "base",
   "language": "python",
   "name": "python3"
  },
  "language_info": {
   "codemirror_mode": {
    "name": "ipython",
    "version": 3
   },
   "file_extension": ".py",
   "mimetype": "text/x-python",
   "name": "python",
   "nbconvert_exporter": "python",
   "pygments_lexer": "ipython3",
   "version": "3.11.4"
  }
 },
 "nbformat": 4,
 "nbformat_minor": 2
}
